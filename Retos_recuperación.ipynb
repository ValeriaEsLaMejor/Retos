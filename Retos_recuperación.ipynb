{
  "nbformat": 4,
  "nbformat_minor": 0,
  "metadata": {
    "colab": {
      "name": "Retos recuperación",
      "provenance": [],
      "authorship_tag": "ABX9TyMeqeLZTuCpnLJFdNE3cvNX",
      "include_colab_link": true
    },
    "kernelspec": {
      "name": "python3",
      "display_name": "Python 3"
    },
    "language_info": {
      "name": "python"
    }
  },
  "cells": [
    {
      "cell_type": "markdown",
      "metadata": {
        "id": "view-in-github",
        "colab_type": "text"
      },
      "source": [
        "<a href=\"https://colab.research.google.com/github/ValeriaEsLaMejor/Retos/blob/main/Retos_recuperaci%C3%B3n.ipynb\" target=\"_parent\"><img src=\"https://colab.research.google.com/assets/colab-badge.svg\" alt=\"Open In Colab\"/></a>"
      ]
    },
    {
      "cell_type": "code",
      "execution_count": null,
      "metadata": {
        "colab": {
          "base_uri": "https://localhost:8080/"
        },
        "id": "tA-5CtP3SImI",
        "outputId": "ac416113-c43b-430f-caa5-1c322ace890f"
      },
      "outputs": [
        {
          "output_type": "stream",
          "name": "stdout",
          "text": [
            "Número aleatorio: 117\n",
            "El número es mayor a 100\n"
          ]
        }
      ],
      "source": [
        "#reto 6\n",
        "\n",
        "import random\n",
        "x=random.randrange(120)\n",
        "print(\"Número aleatorio:\",x)\n",
        "if x<10:\n",
        "  print(\"El número es menor a 10\")\n",
        "else:\n",
        "  if x<50:\n",
        "    print(\"El número se encuentra en el intervalo entre 10 y 50\")\n",
        "  else:\n",
        "    if x<100:\n",
        "      print(\"El número se encuentra en el intervalo entre 50 y 100\")\n",
        "    else:\n",
        "      if x>100:\n",
        "        print(\"El número es mayor a 100\")"
      ]
    },
    {
      "cell_type": "code",
      "source": [
        "#reto 8\n",
        "\n",
        "i=10\n",
        "for i in range(10,21):\n",
        "  if i%2==0:\n",
        "    print(i)\n",
        "    i+1"
      ],
      "metadata": {
        "colab": {
          "base_uri": "https://localhost:8080/"
        },
        "id": "94CQwO4BV5qR",
        "outputId": "4e93e2c0-ffa1-4c3a-bb2e-16f81a1e202b"
      },
      "execution_count": null,
      "outputs": [
        {
          "output_type": "stream",
          "name": "stdout",
          "text": [
            "10\n",
            "12\n",
            "14\n",
            "16\n",
            "18\n",
            "20\n"
          ]
        }
      ]
    },
    {
      "cell_type": "code",
      "source": [
        "#reto 9\n",
        "x=int(input(\"Ingrese valor inicial: \"))\n",
        "y=int(input(\"Ingrese valor final: \"))\n",
        "z=int(input(\"Ingrese intervalo: \"))\n",
        "total=0\n",
        "for i in range(x,y,z):\n",
        "  print(i)\n",
        "  total=i+total\n",
        "print(\"Suma de los valores listados: \", total)"
      ],
      "metadata": {
        "colab": {
          "base_uri": "https://localhost:8080/"
        },
        "id": "RjKMDbaT6Hk1",
        "outputId": "94413f65-fd68-43db-a30a-d296a96e38b9"
      },
      "execution_count": 46,
      "outputs": [
        {
          "output_type": "stream",
          "name": "stdout",
          "text": [
            "Ingrese valor inicial: 0\n",
            "Ingrese valor final: 20\n",
            "Ingrese intervalo: 2\n",
            "0\n",
            "2\n",
            "4\n",
            "6\n",
            "8\n",
            "10\n",
            "12\n",
            "14\n",
            "16\n",
            "18\n",
            "Suma de los valores listados:  90\n"
          ]
        }
      ]
    },
    {
      "cell_type": "code",
      "source": [
        "#reto 13\n",
        "x = float(input(\"Ingrese el primer número: \")) \n",
        "y = float(input(\"Ingrese el segundo número: \"))\n",
        "i= (x+y)/2\n",
        "print('La media de los dos numeros es:',i)"
      ],
      "metadata": {
        "colab": {
          "base_uri": "https://localhost:8080/"
        },
        "id": "VxsQvUlxeLcX",
        "outputId": "dd1a6ac0-040e-4781-85c3-e9151da44819"
      },
      "execution_count": 23,
      "outputs": [
        {
          "output_type": "stream",
          "name": "stdout",
          "text": [
            "Ingrese el primer número: 2\n",
            "Ingrese el segundo número: 4\n",
            "La media de los dos numeros es: 3.0\n"
          ]
        }
      ]
    },
    {
      "cell_type": "code",
      "source": [
        "#reto 15\n",
        "x=0\n",
        "x=int(input(\"Ingrese número de digitos que va ingresar para calcular media: \"))\n",
        "i=0\n",
        "total=0\n",
        "for i in range(x):\n",
        "  i+1\n",
        "  y=float(input(\"Ingrese un número: \"))\n",
        "  total=y+total\n",
        "  \n",
        "med=total/x\n",
        "print('La media de los numeros es:',med)"
      ],
      "metadata": {
        "id": "di0Nte0GaB9w",
        "colab": {
          "base_uri": "https://localhost:8080/"
        },
        "outputId": "86708c3d-a39c-4f12-9838-515100eec18c"
      },
      "execution_count": 32,
      "outputs": [
        {
          "output_type": "stream",
          "name": "stdout",
          "text": [
            "Ingrese número de digitos que va ingresar para calcular media: 3\n",
            "Ingrese un número: 1\n",
            "Ingrese un número: 2\n",
            "Ingrese un número: 3\n",
            "La media de los numeros es: 2.0\n"
          ]
        }
      ]
    },
    {
      "cell_type": "code",
      "source": [
        "#reto 17\n",
        "import random\n",
        "x=random.randrange(100)\n",
        "y=int(input(\"Ingrese un número:\"))\n",
        "if y==x:\n",
        "  print(\"¡Felicidades has adivinado el número secreto!\")\n",
        "else:\n",
        "  if y<x:\n",
        "    print(\"El número que ingresó es menor al número secreto\")\n",
        "  else:\n",
        "    if y>x:\n",
        "      print(\"El número que ingresó es mayor al número secreto\")"
      ],
      "metadata": {
        "colab": {
          "base_uri": "https://localhost:8080/"
        },
        "id": "oouGs3Dli9to",
        "outputId": "1257cc02-7d7d-4257-8c36-0f53b4bc932d"
      },
      "execution_count": 37,
      "outputs": [
        {
          "output_type": "stream",
          "name": "stdout",
          "text": [
            "Ingrese un número:45\n",
            "El número que ingresó es mayor al número secreto\n"
          ]
        }
      ]
    },
    {
      "cell_type": "code",
      "source": [
        "#reto 20\n",
        "x=int(input(\"Ingrese un año: \"))\n",
        "if x%4==0:\n",
        "  if x%100==0:\n",
        "    if x%400==0:\n",
        "      print(\"El año es bisiesto\")\n",
        "    else:\n",
        "      print(\"El año no es bisiesto\")\n",
        "  else:\n",
        "    print(\"El año es bisiesto\")\n",
        "else:\n",
        "  print(\"El año no es bisiesto\")"
      ],
      "metadata": {
        "colab": {
          "base_uri": "https://localhost:8080/"
        },
        "id": "SD7UW5Ogkphx",
        "outputId": "2e275ae7-8478-445f-cfe9-1fc810d29e71"
      },
      "execution_count": 41,
      "outputs": [
        {
          "output_type": "stream",
          "name": "stdout",
          "text": [
            "Ingrese un año: 2021\n",
            "El año no es bisiesto\n"
          ]
        }
      ]
    }
  ]
}